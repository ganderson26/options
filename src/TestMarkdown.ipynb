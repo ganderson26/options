{
 "cells": [
  {
   "cell_type": "markdown",
   "id": "29db597e-68e1-48f0-9277-9e8a2f3a481d",
   "metadata": {},
   "source": [
    "**Python Tutorial: Data Types and Variables**\n",
    "\n",
    "Welcome to the Python Tutorial on Data Types and Variables! In this tutorial, we'll cover the basics of data types, variables, and how to work with them in Python.\n",
    "\n",
    "**1. Data Types:**\n",
    "\n",
    "Python supports several built-in data types, including:\n",
    "- Integer (`int`): Whole numbers, e.g., 5, -3, 100.\n",
    "- Float (`float`): Decimal numbers, e.g., 3.14, -0.5, 2.0.\n",
    "- String (`str`): Text enclosed in single ('') or double (\"\") quotes, e.g., \"hello\", 'python'.\n",
    "- Boolean (`bool`): True or False values.\n"
   ]
  },
  {
   "cell_type": "code",
   "execution_count": 4,
   "id": "f5f5ef35-5d6f-4ace-bb07-2a777f6a5d38",
   "metadata": {},
   "outputs": [
    {
     "name": "stdout",
     "output_type": "stream",
     "text": [
      "Integer: 10\n",
      "Float: 3.14\n",
      "String: Alice\n",
      "Boolean: True\n"
     ]
    }
   ],
   "source": [
    "# Example 1: Declaring Variables with Different Data Types\n",
    "\n",
    "# Integers\n",
    "num1 = 10\n",
    "\n",
    "# Floats\n",
    "num2 = 3.14\n",
    "\n",
    "# Strings\n",
    "name = \"Alice\"\n",
    "\n",
    "# Booleans\n",
    "is_student = True\n",
    "\n",
    "# Print variables\n",
    "print(\"Integer:\", num1)\n",
    "print(\"Float:\", num2)\n",
    "print(\"String:\", name)\n",
    "print(\"Boolean:\", is_student)"
   ]
  }
 ],
 "metadata": {
  "kernelspec": {
   "display_name": "Python 3 (ipykernel)",
   "language": "python",
   "name": "python3"
  },
  "language_info": {
   "codemirror_mode": {
    "name": "ipython",
    "version": 3
   },
   "file_extension": ".py",
   "mimetype": "text/x-python",
   "name": "python",
   "nbconvert_exporter": "python",
   "pygments_lexer": "ipython3",
   "version": "3.8.18"
  }
 },
 "nbformat": 4,
 "nbformat_minor": 5
}
