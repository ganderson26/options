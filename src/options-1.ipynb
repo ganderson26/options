{
 "cells": [
  {
   "cell_type": "code",
   "execution_count": null,
   "id": "257208f0-ae49-4894-8ee7-f3c94eaa44a8",
   "metadata": {},
   "outputs": [],
   "source": [
    "# https://www.linkedin.com/pulse/python-finance-part-4-stock-options-henry-meier"
   ]
  },
  {
   "cell_type": "code",
   "execution_count": 1,
   "id": "051f1fe9-6f35-4c2a-bb10-6b4a7cce22e2",
   "metadata": {},
   "outputs": [
    {
     "name": "stdin",
     "output_type": "stream",
     "text": [
      "Enter stock ticker:  AMD\n",
      "Enter expiry date:  2024-02-23\n"
     ]
    },
    {
     "name": "stderr",
     "output_type": "stream",
     "text": [
      "[*********************100%%**********************]  1 of 1 completed\n"
     ]
    }
   ],
   "source": [
    "import yfinance as yf\n",
    "import numpy as np\n",
    "from scipy.stats import norm\n",
    "import pandas as pd\n",
    "import matplotlib.pyplot as plt\n",
    "\n",
    "# Set stock ticker and expiry date\n",
    "ticker = input(\"Enter stock ticker: \")\n",
    "expiry = input(\"Enter expiry date: \")\n",
    "\n",
    "# Get stock data for the past year\n",
    "start_date = pd.to_datetime('today') - pd.DateOffset(years=1)\n",
    "end_date = pd.to_datetime('today')\n",
    "stock_data = yf.download(ticker, start=start_date, end=end_date)\n",
    "\n",
    "# Calculate historical volatility\n",
    "returns = stock_data['Adj Close'].pct_change().dropna()\n",
    "volatility = returns.std() * np.sqrt(252)\n",
    "\n",
    "# Get option chain for stock ticker and expiry date\n",
    "option_chain = yf.Ticker(ticker).option_chain(expiry)\n",
    "\n",
    "# Filter option chain for puts and calls\n",
    "puts = option_chain.puts.sort_values(by='lastPrice')\n",
    "calls = option_chain.calls.sort_values(by='lastPrice')\n",
    "\n",
    "# Filter for conservative trader\n",
    "conservative_puts = puts[puts[\"inTheMoney\"] == True].head(5)\n",
    "conservative_calls = calls[calls[\"inTheMoney\"] == True].tail(5)\n",
    "\n",
    "# Set risk-free interest rate\n",
    "r = -0.0626\n",
    "\n",
    "# Calculate time to expiration in years\n",
    "t = (pd.to_datetime(expiry) - pd.to_datetime('today')).days / 365 "
   ]
  },
  {
   "cell_type": "code",
   "execution_count": 2,
   "id": "049bfe9b-e3d6-4710-b7c4-c180baf616c4",
   "metadata": {},
   "outputs": [
    {
     "name": "stdin",
     "output_type": "stream",
     "text": [
      "Enter stock ticker:  AMD\n",
      "Enter expiry date:  2024-02-23\n"
     ]
    },
    {
     "name": "stderr",
     "output_type": "stream",
     "text": [
      "[*********************100%%**********************]  1 of 1 completed\n"
     ]
    },
    {
     "name": "stdout",
     "output_type": "stream",
     "text": [
      "\n",
      "Suggested puts:\n",
      " strike             lastTradeDate  lastPrice  ask  impliedVolatility  fair_price  expected_return\n",
      "  175.0 2024-02-16 20:59:57+00:00       5.76 5.80           0.536137  169.390133        28.408009\n",
      "  177.5 2024-02-16 20:59:03+00:00       7.30 7.35           0.542241  170.352278        22.335928\n",
      "  180.0 2024-02-16 20:59:23+00:00       8.98 9.10           0.551518  171.174422        18.061740\n",
      "\n",
      "Stock Price:\n",
      "The current price of AMD is $173.87\n",
      "\n",
      "Suggested calls:\n",
      " strike             lastTradeDate  lastPrice   ask  impliedVolatility  fair_price  expected_return\n",
      "   75.0 2024-02-16 14:58:55+00:00     100.41 99.55           2.523441   25.345657        -0.747578\n",
      "   80.0 2024-02-15 16:57:49+00:00      95.83 94.80           2.636722   15.761801        -0.835523\n",
      "   85.0 2024-02-13 15:41:32+00:00      87.47 89.70           2.230473    3.271506        -0.962599\n"
     ]
    }
   ],
   "source": [
    "import yfinance as yf\n",
    "import numpy as np\n",
    "from scipy.stats import norm\n",
    "import pandas as pd\n",
    "import matplotlib.pyplot as plt\n",
    "\n",
    "# Define Black-Scholes formula\n",
    "def black_scholes(S, K, t, r, sigma, option='call'):\n",
    "    d1 = (np.log(S / K) + (r + 0.5 * sigma ** 2) * t) / (sigma * np.sqrt(t))\n",
    "    d2 = d1 - sigma * np.sqrt(t)\n",
    "    if option == 'call':\n",
    "        return S * norm.cdf(d1) - K * np.exp(-r * t) * norm.cdf(d2)\n",
    "    else:\n",
    "        return K * np.exp(-r * t) * norm.cdf(-d2) - S * norm.cdf(-d1)\n",
    "\n",
    "# Set stock ticker and expiry date\n",
    "ticker = input(\"Enter stock ticker: \")\n",
    "expiry = input(\"Enter expiry date: \")\n",
    "\n",
    "# Get stock data for the past year\n",
    "start_date = pd.to_datetime('today') - pd.DateOffset(years=1)\n",
    "end_date = pd.to_datetime('today')\n",
    "stock_data = yf.download(ticker, start=start_date, end=end_date)\n",
    "\n",
    "# Calculate historical volatility\n",
    "returns = stock_data['Adj Close'].pct_change().dropna()\n",
    "volatility = returns.std() * np.sqrt(252)\n",
    "\n",
    "# Get option chain for stock ticker and expiry date\n",
    "option_chain = yf.Ticker(ticker).option_chain(expiry)\n",
    "\n",
    "# Filter option chain for puts and calls\n",
    "puts = option_chain.puts.sort_values(by='lastPrice')\n",
    "calls = option_chain.calls.sort_values(by='lastPrice')\n",
    "\n",
    "# Filter for conservative trader\n",
    "conservative_puts = puts[puts[\"inTheMoney\"] == True].head(5)\n",
    "conservative_calls = calls[calls[\"inTheMoney\"] == True].tail(5)\n",
    "\n",
    "# Set risk-free interest rate\n",
    "r = -0.0626\n",
    "\n",
    "# Calculate time to expiration in years\n",
    "t = (pd.to_datetime(expiry) - pd.to_datetime('today')).days / 365 \n",
    "\n",
    "# Estimate fair price for each option using Black-Scholes formula\n",
    "conservative_puts['fair_price'] = black_scholes(\n",
    "    conservative_puts['lastPrice'], conservative_puts['strike'], t, r, volatility,\n",
    "    option='put')\n",
    "conservative_calls['fair_price'] = black_scholes(\n",
    "    conservative_calls['lastPrice'], conservative_calls['strike'], t, r, volatility,\n",
    "    option='call')\n",
    "\n",
    "# Calculate expected return for each option\n",
    "conservative_puts['expected_return'] = (conservative_puts['fair_price'] - conservative_puts['lastPrice']) / \\\n",
    "                                       conservative_puts['lastPrice']\n",
    "conservative_calls['expected_return'] = (conservative_calls['fair_price'] - conservative_calls['lastPrice']) / \\\n",
    "                                        conservative_calls['lastPrice']\n",
    "\n",
    "# Rank options by expected return and suggest top 3 put and call\n",
    "suggested_puts = conservative_puts.sort_values('expected_return', ascending=False).head(3)\n",
    "suggested_calls = conservative_calls.sort_values('expected_return', ascending=False).head(3)\n",
    "\n",
    "# Print suggested options and stock price\n",
    "market_price = yf.Ticker(ticker).fast_info['lastPrice']\n",
    "print()\n",
    "print(\"Suggested puts:\")\n",
    "print(suggested_puts[['strike', 'lastTradeDate', 'lastPrice', 'ask', 'impliedVolatility', 'fair_price',\n",
    "                      'expected_return']].to_string(index=False))\n",
    "print(\"\\nStock Price:\")\n",
    "print(f\"The current price of {ticker} is ${market_price:.2f}\")\n",
    "\n",
    "print(\"\\nSuggested calls:\")\n",
    "print(suggested_calls[['strike', 'lastTradeDate', 'lastPrice', 'ask', 'impliedVolatility', 'fair_price',\n",
    "                       'expected_return']].to_string(index=False))\n",
    "        "
   ]
  },
  {
   "cell_type": "code",
   "execution_count": null,
   "id": "eb59d37b-808b-4a8b-9138-52fba7f9b2ee",
   "metadata": {},
   "outputs": [],
   "source": []
  }
 ],
 "metadata": {
  "kernelspec": {
   "display_name": "Python 3 (ipykernel)",
   "language": "python",
   "name": "python3"
  },
  "language_info": {
   "codemirror_mode": {
    "name": "ipython",
    "version": 3
   },
   "file_extension": ".py",
   "mimetype": "text/x-python",
   "name": "python",
   "nbconvert_exporter": "python",
   "pygments_lexer": "ipython3",
   "version": "3.8.18"
  }
 },
 "nbformat": 4,
 "nbformat_minor": 5
}
